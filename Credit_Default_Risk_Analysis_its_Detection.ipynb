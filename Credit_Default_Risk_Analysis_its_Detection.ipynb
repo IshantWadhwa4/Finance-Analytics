{
  "nbformat": 4,
  "nbformat_minor": 0,
  "metadata": {
    "colab": {
      "name": "Credit Default Risk Analysis _ its Detection.ipynb",
      "provenance": [],
      "collapsed_sections": [
        "4eJvIAzyG-nq"
      ],
      "authorship_tag": "ABX9TyNLNViw8d6iJSwvRJVITVe5",
      "include_colab_link": true
    },
    "kernelspec": {
      "name": "python3",
      "display_name": "Python 3"
    }
  },
  "cells": [
    {
      "cell_type": "markdown",
      "metadata": {
        "id": "view-in-github",
        "colab_type": "text"
      },
      "source": [
        "<a href=\"https://colab.research.google.com/github/IshantWadhwa4/Finance-Analytics/blob/master/Credit_Default_Risk_Analysis_its_Detection.ipynb\" target=\"_parent\"><img src=\"https://colab.research.google.com/assets/colab-badge.svg\" alt=\"Open In Colab\"/></a>"
      ]
    },
    {
      "cell_type": "markdown",
      "metadata": {
        "id": "7rONGBngUuqh",
        "colab_type": "text"
      },
      "source": [
        "## Table of Contents\n",
        "\n",
        "1.   [Problem Statment](#Section1)\n",
        "2.   [Data Acquisition & Description](#Section2)\n",
        "3.   [Data Pre-processing](#Section3)\n",
        "4.   [Pre-Exploratory Data Analysis](#Section4)\n",
        "5.   [Post Data Processing & Analysis](#Section5)\n",
        "6.   [Model Evaluation](#Section6)"
      ]
    },
    {
      "cell_type": "markdown",
      "metadata": {
        "id": "-O6Mu_T_UuYQ",
        "colab_type": "text"
      },
      "source": [
        "## 1. Problem Statement\n"
      ]
    },
    {
      "cell_type": "markdown",
      "metadata": {
        "id": "92SYfKF3U7I8",
        "colab_type": "text"
      },
      "source": [
        "IndNatBank is a peer to peer loan financial company who provides loan to its potential customers all over the India. They make profit based on the risk they issues loans to the borrowers. Based on the previous data they want to analyze the risk of issuing loans to the new customers which at the same time also helps to improve the personalization user experience while applying for loans.\n",
        "\n",
        "They have experienced employees who uses the complex rules to provide services to their customers. But as the size of data will increase their traditional ways of assessing risk might not be good for the company. They wants to automate their process by which machine learns the pattern out of their data for better customer experience.\n",
        "\n",
        "Now the question is how this problem could be solved using Machine Learning? While there are many ways to assess the credit loan risk and its depiction. We will be working with a simple scenario to solve this problem."
      ]
    },
    {
      "cell_type": "markdown",
      "metadata": {
        "id": "7M5lh-PEVEIf",
        "colab_type": "text"
      },
      "source": [
        "## 2. Data Acquisition & Description"
      ]
    },
    {
      "cell_type": "code",
      "metadata": {
        "id": "4ws0Z9gFUp2j",
        "colab_type": "code",
        "colab": {}
      },
      "source": [
        "import pandas as pd\n",
        "import numpy as np"
      ],
      "execution_count": 0,
      "outputs": []
    },
    {
      "cell_type": "code",
      "metadata": {
        "id": "EQfRLYTeVX33",
        "colab_type": "code",
        "colab": {}
      },
      "source": [
        "url = 'https://storage.googleapis.com/industryanalytics/LoanDefaultData.csv'\n",
        "data = pd.read_csv(filepath_or_buffer=url)"
      ],
      "execution_count": 0,
      "outputs": []
    },
    {
      "cell_type": "markdown",
      "metadata": {
        "id": "9rilIAXTVqWW",
        "colab_type": "text"
      },
      "source": [
        "## 3. Data Pre-processing"
      ]
    },
    {
      "cell_type": "markdown",
      "metadata": {
        "id": "EkKs0oRgG6TD",
        "colab_type": "text"
      },
      "source": [
        "#### Basic Info"
      ]
    },
    {
      "cell_type": "code",
      "metadata": {
        "id": "_-fOX6RNF7kv",
        "colab_type": "code",
        "outputId": "a674085c-3393-4417-b8c3-c91f90465813",
        "colab": {
          "base_uri": "https://localhost:8080/",
          "height": 35
        }
      },
      "source": [
        "data.shape"
      ],
      "execution_count": 0,
      "outputs": [
        {
          "output_type": "execute_result",
          "data": {
            "text/plain": [
              "(887379, 22)"
            ]
          },
          "metadata": {
            "tags": []
          },
          "execution_count": 4
        }
      ]
    },
    {
      "cell_type": "code",
      "metadata": {
        "id": "fRwvZjeXVjQb",
        "colab_type": "code",
        "outputId": "e6b7e9bb-be73-478b-9c2d-029ed6fc75d0",
        "colab": {
          "base_uri": "https://localhost:8080/",
          "height": 278
        }
      },
      "source": [
        "data.head()\n",
        "# Task 1: date_final column is not in correct form"
      ],
      "execution_count": 0,
      "outputs": [
        {
          "output_type": "execute_result",
          "data": {
            "text/html": [
              "<div>\n",
              "<style scoped>\n",
              "    .dataframe tbody tr th:only-of-type {\n",
              "        vertical-align: middle;\n",
              "    }\n",
              "\n",
              "    .dataframe tbody tr th {\n",
              "        vertical-align: top;\n",
              "    }\n",
              "\n",
              "    .dataframe thead th {\n",
              "        text-align: right;\n",
              "    }\n",
              "</style>\n",
              "<table border=\"1\" class=\"dataframe\">\n",
              "  <thead>\n",
              "    <tr style=\"text-align: right;\">\n",
              "      <th></th>\n",
              "      <th>cust_id</th>\n",
              "      <th>year</th>\n",
              "      <th>state</th>\n",
              "      <th>date_issued</th>\n",
              "      <th>date_final</th>\n",
              "      <th>emp_duration</th>\n",
              "      <th>own_type</th>\n",
              "      <th>income_type</th>\n",
              "      <th>app_type</th>\n",
              "      <th>loan_purpose</th>\n",
              "      <th>interest_payments</th>\n",
              "      <th>grade</th>\n",
              "      <th>annual_pay</th>\n",
              "      <th>loan_amount</th>\n",
              "      <th>interest_rate</th>\n",
              "      <th>loan_duration</th>\n",
              "      <th>dti</th>\n",
              "      <th>total_pymnt</th>\n",
              "      <th>total_rec_prncp</th>\n",
              "      <th>recoveries</th>\n",
              "      <th>installment</th>\n",
              "      <th>is_default</th>\n",
              "    </tr>\n",
              "  </thead>\n",
              "  <tbody>\n",
              "    <tr>\n",
              "      <th>0</th>\n",
              "      <td>180675</td>\n",
              "      <td>2007</td>\n",
              "      <td>Andhra Pradesh</td>\n",
              "      <td>01/12/2007</td>\n",
              "      <td>1032009</td>\n",
              "      <td>10.0</td>\n",
              "      <td>MORTGAGE</td>\n",
              "      <td>Low</td>\n",
              "      <td>INDIVIDUAL</td>\n",
              "      <td>debt_consolidation</td>\n",
              "      <td>Low</td>\n",
              "      <td>C</td>\n",
              "      <td>73000</td>\n",
              "      <td>25000</td>\n",
              "      <td>10.91</td>\n",
              "      <td>36 months</td>\n",
              "      <td>22.13</td>\n",
              "      <td>13650.38</td>\n",
              "      <td>8767.32</td>\n",
              "      <td>2207.65</td>\n",
              "      <td>817.41</td>\n",
              "      <td>1</td>\n",
              "    </tr>\n",
              "    <tr>\n",
              "      <th>1</th>\n",
              "      <td>85781</td>\n",
              "      <td>2007</td>\n",
              "      <td>Rajasthan</td>\n",
              "      <td>01/06/2007</td>\n",
              "      <td>1072010</td>\n",
              "      <td>0.5</td>\n",
              "      <td>RENT</td>\n",
              "      <td>Low</td>\n",
              "      <td>INDIVIDUAL</td>\n",
              "      <td>other</td>\n",
              "      <td>Low</td>\n",
              "      <td>C</td>\n",
              "      <td>40000</td>\n",
              "      <td>1400</td>\n",
              "      <td>10.91</td>\n",
              "      <td>36 months</td>\n",
              "      <td>8.61</td>\n",
              "      <td>1663.04</td>\n",
              "      <td>1400.00</td>\n",
              "      <td>0.00</td>\n",
              "      <td>45.78</td>\n",
              "      <td>0</td>\n",
              "    </tr>\n",
              "    <tr>\n",
              "      <th>2</th>\n",
              "      <td>85675</td>\n",
              "      <td>2007</td>\n",
              "      <td>Manipur</td>\n",
              "      <td>01/06/2007</td>\n",
              "      <td>1062010</td>\n",
              "      <td>10.0</td>\n",
              "      <td>RENT</td>\n",
              "      <td>Low</td>\n",
              "      <td>INDIVIDUAL</td>\n",
              "      <td>other</td>\n",
              "      <td>High</td>\n",
              "      <td>E</td>\n",
              "      <td>25000</td>\n",
              "      <td>1000</td>\n",
              "      <td>14.07</td>\n",
              "      <td>36 months</td>\n",
              "      <td>16.27</td>\n",
              "      <td>1231.38</td>\n",
              "      <td>1000.00</td>\n",
              "      <td>0.00</td>\n",
              "      <td>34.21</td>\n",
              "      <td>0</td>\n",
              "    </tr>\n",
              "    <tr>\n",
              "      <th>3</th>\n",
              "      <td>84918</td>\n",
              "      <td>2007</td>\n",
              "      <td>Andhra Pradesh</td>\n",
              "      <td>01/09/2007</td>\n",
              "      <td>1042008</td>\n",
              "      <td>10.0</td>\n",
              "      <td>MORTGAGE</td>\n",
              "      <td>Low</td>\n",
              "      <td>INDIVIDUAL</td>\n",
              "      <td>other</td>\n",
              "      <td>Low</td>\n",
              "      <td>A</td>\n",
              "      <td>65000</td>\n",
              "      <td>5000</td>\n",
              "      <td>7.43</td>\n",
              "      <td>36 months</td>\n",
              "      <td>0.28</td>\n",
              "      <td>5200.44</td>\n",
              "      <td>5000.00</td>\n",
              "      <td>0.00</td>\n",
              "      <td>155.38</td>\n",
              "      <td>0</td>\n",
              "    </tr>\n",
              "    <tr>\n",
              "      <th>4</th>\n",
              "      <td>84670</td>\n",
              "      <td>2007</td>\n",
              "      <td>Arunachal Pradesh</td>\n",
              "      <td>01/06/2007</td>\n",
              "      <td>1082009</td>\n",
              "      <td>10.0</td>\n",
              "      <td>MORTGAGE</td>\n",
              "      <td>High</td>\n",
              "      <td>INDIVIDUAL</td>\n",
              "      <td>other</td>\n",
              "      <td>Low</td>\n",
              "      <td>A</td>\n",
              "      <td>300000</td>\n",
              "      <td>5000</td>\n",
              "      <td>7.75</td>\n",
              "      <td>36 months</td>\n",
              "      <td>5.38</td>\n",
              "      <td>5565.65</td>\n",
              "      <td>5000.00</td>\n",
              "      <td>0.00</td>\n",
              "      <td>156.11</td>\n",
              "      <td>0</td>\n",
              "    </tr>\n",
              "  </tbody>\n",
              "</table>\n",
              "</div>"
            ],
            "text/plain": [
              "   cust_id  year              state  ... recoveries  installment  is_default\n",
              "0   180675  2007     Andhra Pradesh  ...    2207.65       817.41           1\n",
              "1    85781  2007          Rajasthan  ...       0.00        45.78           0\n",
              "2    85675  2007            Manipur  ...       0.00        34.21           0\n",
              "3    84918  2007     Andhra Pradesh  ...       0.00       155.38           0\n",
              "4    84670  2007  Arunachal Pradesh  ...       0.00       156.11           0\n",
              "\n",
              "[5 rows x 22 columns]"
            ]
          },
          "metadata": {
            "tags": []
          },
          "execution_count": 3
        }
      ]
    },
    {
      "cell_type": "code",
      "metadata": {
        "id": "7KpVf0RGV3Wn",
        "colab_type": "code",
        "outputId": "80cfabf5-26fa-4c6c-a7ce-184a7d558f30",
        "colab": {
          "base_uri": "https://localhost:8080/",
          "height": 508
        }
      },
      "source": [
        "data.info()\n",
        "# No null value\n",
        "# Task 2: Data type is not correct"
      ],
      "execution_count": 0,
      "outputs": [
        {
          "output_type": "stream",
          "text": [
            "<class 'pandas.core.frame.DataFrame'>\n",
            "RangeIndex: 887379 entries, 0 to 887378\n",
            "Data columns (total 22 columns):\n",
            "cust_id              887379 non-null int64\n",
            "year                 887379 non-null int64\n",
            "state                887379 non-null object\n",
            "date_issued          887379 non-null datetime64[ns]\n",
            "date_final           887379 non-null datetime64[ns]\n",
            "emp_duration         887379 non-null float64\n",
            "own_type             887379 non-null object\n",
            "income_type          887379 non-null object\n",
            "app_type             887379 non-null object\n",
            "loan_purpose         887379 non-null object\n",
            "interest_payments    887379 non-null object\n",
            "grade                887379 non-null object\n",
            "annual_pay           887379 non-null int64\n",
            "loan_amount          887379 non-null int64\n",
            "interest_rate        887379 non-null float64\n",
            "loan_duration        887379 non-null object\n",
            "dti                  887379 non-null float64\n",
            "total_pymnt          887379 non-null float64\n",
            "total_rec_prncp      887379 non-null float64\n",
            "recoveries           887379 non-null float64\n",
            "installment          887379 non-null float64\n",
            "is_default           887379 non-null int64\n",
            "dtypes: datetime64[ns](2), float64(7), int64(5), object(8)\n",
            "memory usage: 148.9+ MB\n"
          ],
          "name": "stdout"
        }
      ]
    },
    {
      "cell_type": "code",
      "metadata": {
        "id": "XQVV5P-aGGAK",
        "colab_type": "code",
        "outputId": "e12a639b-8008-4344-d991-682182bbe9ad",
        "colab": {
          "base_uri": "https://localhost:8080/",
          "height": 300
        }
      },
      "source": [
        "pd.options.display.float_format = \"{:.2f}\".format\n",
        "data.describe()\n",
        "\n",
        "# check for outlier in annual_pay see it has max 95lack and loan amount max is 35000only \n",
        "# check outlier in dti"
      ],
      "execution_count": 0,
      "outputs": [
        {
          "output_type": "execute_result",
          "data": {
            "text/html": [
              "<div>\n",
              "<style scoped>\n",
              "    .dataframe tbody tr th:only-of-type {\n",
              "        vertical-align: middle;\n",
              "    }\n",
              "\n",
              "    .dataframe tbody tr th {\n",
              "        vertical-align: top;\n",
              "    }\n",
              "\n",
              "    .dataframe thead th {\n",
              "        text-align: right;\n",
              "    }\n",
              "</style>\n",
              "<table border=\"1\" class=\"dataframe\">\n",
              "  <thead>\n",
              "    <tr style=\"text-align: right;\">\n",
              "      <th></th>\n",
              "      <th>cust_id</th>\n",
              "      <th>year</th>\n",
              "      <th>date_final</th>\n",
              "      <th>emp_duration</th>\n",
              "      <th>annual_pay</th>\n",
              "      <th>loan_amount</th>\n",
              "      <th>interest_rate</th>\n",
              "      <th>dti</th>\n",
              "      <th>total_pymnt</th>\n",
              "      <th>total_rec_prncp</th>\n",
              "      <th>recoveries</th>\n",
              "      <th>installment</th>\n",
              "      <th>is_default</th>\n",
              "    </tr>\n",
              "  </thead>\n",
              "  <tbody>\n",
              "    <tr>\n",
              "      <th>count</th>\n",
              "      <td>887379.00</td>\n",
              "      <td>887379.00</td>\n",
              "      <td>887379.00</td>\n",
              "      <td>887379.00</td>\n",
              "      <td>887379.00</td>\n",
              "      <td>887379.00</td>\n",
              "      <td>887379.00</td>\n",
              "      <td>887379.00</td>\n",
              "      <td>887379.00</td>\n",
              "      <td>887379.00</td>\n",
              "      <td>887379.00</td>\n",
              "      <td>887379.00</td>\n",
              "      <td>887379.00</td>\n",
              "    </tr>\n",
              "    <tr>\n",
              "      <th>mean</th>\n",
              "      <td>32465133.06</td>\n",
              "      <td>2014.02</td>\n",
              "      <td>1047089.32</td>\n",
              "      <td>6.05</td>\n",
              "      <td>75027.59</td>\n",
              "      <td>14755.26</td>\n",
              "      <td>13.25</td>\n",
              "      <td>18.16</td>\n",
              "      <td>7558.83</td>\n",
              "      <td>5757.71</td>\n",
              "      <td>45.92</td>\n",
              "      <td>436.72</td>\n",
              "      <td>0.08</td>\n",
              "    </tr>\n",
              "    <tr>\n",
              "      <th>std</th>\n",
              "      <td>22827341.72</td>\n",
              "      <td>1.26</td>\n",
              "      <td>45551.49</td>\n",
              "      <td>3.51</td>\n",
              "      <td>64698.15</td>\n",
              "      <td>8435.46</td>\n",
              "      <td>4.38</td>\n",
              "      <td>17.19</td>\n",
              "      <td>7871.24</td>\n",
              "      <td>6625.44</td>\n",
              "      <td>409.69</td>\n",
              "      <td>244.19</td>\n",
              "      <td>0.26</td>\n",
              "    </tr>\n",
              "    <tr>\n",
              "      <th>min</th>\n",
              "      <td>54734.00</td>\n",
              "      <td>2007.00</td>\n",
              "      <td>1012008.00</td>\n",
              "      <td>0.50</td>\n",
              "      <td>0.00</td>\n",
              "      <td>500.00</td>\n",
              "      <td>5.32</td>\n",
              "      <td>0.00</td>\n",
              "      <td>0.00</td>\n",
              "      <td>0.00</td>\n",
              "      <td>0.00</td>\n",
              "      <td>15.67</td>\n",
              "      <td>0.00</td>\n",
              "    </tr>\n",
              "    <tr>\n",
              "      <th>25%</th>\n",
              "      <td>9206643.00</td>\n",
              "      <td>2013.00</td>\n",
              "      <td>1012016.00</td>\n",
              "      <td>3.00</td>\n",
              "      <td>45000.00</td>\n",
              "      <td>8000.00</td>\n",
              "      <td>9.99</td>\n",
              "      <td>11.91</td>\n",
              "      <td>1914.59</td>\n",
              "      <td>1200.57</td>\n",
              "      <td>0.00</td>\n",
              "      <td>260.70</td>\n",
              "      <td>0.00</td>\n",
              "    </tr>\n",
              "    <tr>\n",
              "      <th>50%</th>\n",
              "      <td>34433267.00</td>\n",
              "      <td>2014.00</td>\n",
              "      <td>1012016.00</td>\n",
              "      <td>6.05</td>\n",
              "      <td>65000.00</td>\n",
              "      <td>13000.00</td>\n",
              "      <td>12.99</td>\n",
              "      <td>17.65</td>\n",
              "      <td>4895.00</td>\n",
              "      <td>3215.32</td>\n",
              "      <td>0.00</td>\n",
              "      <td>382.55</td>\n",
              "      <td>0.00</td>\n",
              "    </tr>\n",
              "    <tr>\n",
              "      <th>75%</th>\n",
              "      <td>54908135.00</td>\n",
              "      <td>2015.00</td>\n",
              "      <td>1092015.00</td>\n",
              "      <td>10.00</td>\n",
              "      <td>90000.00</td>\n",
              "      <td>20000.00</td>\n",
              "      <td>16.20</td>\n",
              "      <td>23.95</td>\n",
              "      <td>10616.81</td>\n",
              "      <td>8000.00</td>\n",
              "      <td>0.00</td>\n",
              "      <td>572.60</td>\n",
              "      <td>0.00</td>\n",
              "    </tr>\n",
              "    <tr>\n",
              "      <th>max</th>\n",
              "      <td>68617057.00</td>\n",
              "      <td>2015.00</td>\n",
              "      <td>1122015.00</td>\n",
              "      <td>10.00</td>\n",
              "      <td>9500000.00</td>\n",
              "      <td>35000.00</td>\n",
              "      <td>28.99</td>\n",
              "      <td>9999.00</td>\n",
              "      <td>57777.58</td>\n",
              "      <td>35000.03</td>\n",
              "      <td>33520.27</td>\n",
              "      <td>1445.46</td>\n",
              "      <td>1.00</td>\n",
              "    </tr>\n",
              "  </tbody>\n",
              "</table>\n",
              "</div>"
            ],
            "text/plain": [
              "          cust_id      year  date_final  ...  recoveries  installment  is_default\n",
              "count   887379.00 887379.00   887379.00  ...   887379.00    887379.00   887379.00\n",
              "mean  32465133.06   2014.02  1047089.32  ...       45.92       436.72        0.08\n",
              "std   22827341.72      1.26    45551.49  ...      409.69       244.19        0.26\n",
              "min      54734.00   2007.00  1012008.00  ...        0.00        15.67        0.00\n",
              "25%    9206643.00   2013.00  1012016.00  ...        0.00       260.70        0.00\n",
              "50%   34433267.00   2014.00  1012016.00  ...        0.00       382.55        0.00\n",
              "75%   54908135.00   2015.00  1092015.00  ...        0.00       572.60        0.00\n",
              "max   68617057.00   2015.00  1122015.00  ...    33520.27      1445.46        1.00\n",
              "\n",
              "[8 rows x 13 columns]"
            ]
          },
          "metadata": {
            "tags": []
          },
          "execution_count": 6
        }
      ]
    },
    {
      "cell_type": "code",
      "metadata": {
        "id": "NqE0gvhoG2kQ",
        "colab_type": "code",
        "colab": {}
      },
      "source": [
        "def get_number_zeros_null(df):\n",
        "  '''\n",
        "       LIb : need pandas lib for this function.\n",
        "\n",
        "       Input : Only required dataframe for which you want zeros and null for each column       \n",
        "       Output: dataframe with number of zeros and null\n",
        "  '''\n",
        "  null_zero_dict={ }\n",
        "  null_zero_dict['Number_of_nulls'] = df.isnull().sum()\n",
        "  null_zero_dict['Number_of_zeros'] = (df==0).astype(int).sum()\n",
        "  return pd.DataFrame(null_zero_dict).T"
      ],
      "execution_count": 0,
      "outputs": []
    },
    {
      "cell_type": "code",
      "metadata": {
        "id": "jpJY89hEG2re",
        "colab_type": "code",
        "outputId": "2a4f1d53-db71-4934-994a-d7aaaa2a99e2",
        "colab": {
          "base_uri": "https://localhost:8080/",
          "height": 132
        }
      },
      "source": [
        "get_number_zeros_null(data)\n",
        "# there is no null value and zeros are seems okay "
      ],
      "execution_count": 0,
      "outputs": [
        {
          "output_type": "execute_result",
          "data": {
            "text/html": [
              "<div>\n",
              "<style scoped>\n",
              "    .dataframe tbody tr th:only-of-type {\n",
              "        vertical-align: middle;\n",
              "    }\n",
              "\n",
              "    .dataframe tbody tr th {\n",
              "        vertical-align: top;\n",
              "    }\n",
              "\n",
              "    .dataframe thead th {\n",
              "        text-align: right;\n",
              "    }\n",
              "</style>\n",
              "<table border=\"1\" class=\"dataframe\">\n",
              "  <thead>\n",
              "    <tr style=\"text-align: right;\">\n",
              "      <th></th>\n",
              "      <th>cust_id</th>\n",
              "      <th>year</th>\n",
              "      <th>state</th>\n",
              "      <th>date_issued</th>\n",
              "      <th>date_final</th>\n",
              "      <th>emp_duration</th>\n",
              "      <th>own_type</th>\n",
              "      <th>income_type</th>\n",
              "      <th>app_type</th>\n",
              "      <th>loan_purpose</th>\n",
              "      <th>interest_payments</th>\n",
              "      <th>grade</th>\n",
              "      <th>annual_pay</th>\n",
              "      <th>loan_amount</th>\n",
              "      <th>interest_rate</th>\n",
              "      <th>loan_duration</th>\n",
              "      <th>dti</th>\n",
              "      <th>total_pymnt</th>\n",
              "      <th>total_rec_prncp</th>\n",
              "      <th>recoveries</th>\n",
              "      <th>installment</th>\n",
              "      <th>is_default</th>\n",
              "    </tr>\n",
              "  </thead>\n",
              "  <tbody>\n",
              "    <tr>\n",
              "      <th>Number_of_nulls</th>\n",
              "      <td>0</td>\n",
              "      <td>0</td>\n",
              "      <td>0</td>\n",
              "      <td>0</td>\n",
              "      <td>0</td>\n",
              "      <td>0</td>\n",
              "      <td>0</td>\n",
              "      <td>0</td>\n",
              "      <td>0</td>\n",
              "      <td>0</td>\n",
              "      <td>0</td>\n",
              "      <td>0</td>\n",
              "      <td>0</td>\n",
              "      <td>0</td>\n",
              "      <td>0</td>\n",
              "      <td>0</td>\n",
              "      <td>0</td>\n",
              "      <td>0</td>\n",
              "      <td>0</td>\n",
              "      <td>0</td>\n",
              "      <td>0</td>\n",
              "      <td>0</td>\n",
              "    </tr>\n",
              "    <tr>\n",
              "      <th>Number_of_zeros</th>\n",
              "      <td>0</td>\n",
              "      <td>0</td>\n",
              "      <td>0</td>\n",
              "      <td>0</td>\n",
              "      <td>0</td>\n",
              "      <td>0</td>\n",
              "      <td>0</td>\n",
              "      <td>0</td>\n",
              "      <td>0</td>\n",
              "      <td>0</td>\n",
              "      <td>0</td>\n",
              "      <td>0</td>\n",
              "      <td>2</td>\n",
              "      <td>0</td>\n",
              "      <td>0</td>\n",
              "      <td>0</td>\n",
              "      <td>451</td>\n",
              "      <td>17759</td>\n",
              "      <td>18145</td>\n",
              "      <td>862702</td>\n",
              "      <td>0</td>\n",
              "      <td>819950</td>\n",
              "    </tr>\n",
              "  </tbody>\n",
              "</table>\n",
              "</div>"
            ],
            "text/plain": [
              "                 cust_id  year  state  ...  recoveries  installment  is_default\n",
              "Number_of_nulls        0     0      0  ...           0            0           0\n",
              "Number_of_zeros        0     0      0  ...      862702            0      819950\n",
              "\n",
              "[2 rows x 22 columns]"
            ]
          },
          "metadata": {
            "tags": []
          },
          "execution_count": 8
        }
      ]
    },
    {
      "cell_type": "markdown",
      "metadata": {
        "id": "e2yDdUCRPTX-",
        "colab_type": "text"
      },
      "source": [
        "#### Solve Tasks"
      ]
    },
    {
      "cell_type": "code",
      "metadata": {
        "id": "An1-9vwgPXeY",
        "colab_type": "code",
        "colab": {}
      },
      "source": [
        "# Tasks\n",
        "# Task 1: date_final column is not in correct format\n",
        "# Task 2: Data type is not correct\n",
        "# Task 3: check for outlier in annual_pay see it has max 95lack and loan amount max is 35000only and check outlier in dti"
      ],
      "execution_count": 0,
      "outputs": []
    },
    {
      "cell_type": "code",
      "metadata": {
        "id": "WzCWRV-zPXJX",
        "colab_type": "code",
        "colab": {}
      },
      "source": [
        "# Task 1 and Task 2\n",
        "data['date_final'] =  pd.to_datetime(data['date_final'],format= '%d%m%Y')\n",
        "data['date_issued'] = pd.to_datetime(data['date_issued'])"
      ],
      "execution_count": 0,
      "outputs": []
    },
    {
      "cell_type": "code",
      "metadata": {
        "id": "4qkaOZfZW5vL",
        "colab_type": "code",
        "colab": {}
      },
      "source": [
        ""
      ],
      "execution_count": 0,
      "outputs": []
    },
    {
      "cell_type": "markdown",
      "metadata": {
        "id": "4eJvIAzyG-nq",
        "colab_type": "text"
      },
      "source": [
        "#### Pandas Profiling"
      ]
    },
    {
      "cell_type": "code",
      "metadata": {
        "id": "YPaeEYJ6FdtE",
        "colab_type": "code",
        "colab": {}
      },
      "source": [
        "# Pandas profiling\n",
        "!pip install pandas_profiling==2.5.0"
      ],
      "execution_count": 0,
      "outputs": []
    },
    {
      "cell_type": "code",
      "metadata": {
        "id": "sU_FpD9XFpCB",
        "colab_type": "code",
        "colab": {}
      },
      "source": [
        "import pandas_profiling\n",
        "report = pandas_profiling.ProfileReport(data)\n",
        "#covert profile report as html file\n",
        "report.to_file(\"EDA.html\")"
      ],
      "execution_count": 0,
      "outputs": []
    },
    {
      "cell_type": "markdown",
      "metadata": {
        "id": "1v598CN6OiJO",
        "colab_type": "text"
      },
      "source": [
        "#### Visualization"
      ]
    },
    {
      "cell_type": "code",
      "metadata": {
        "id": "bEHjuuXSYowp",
        "colab_type": "code",
        "outputId": "80346cdd-2d74-4013-e784-555c1bb55933",
        "colab": {
          "base_uri": "https://localhost:8080/",
          "height": 73
        }
      },
      "source": [
        "import seaborn as sns\n",
        "import matplotlib.pyplot as plt"
      ],
      "execution_count": 0,
      "outputs": [
        {
          "output_type": "stream",
          "text": [
            "/usr/local/lib/python3.6/dist-packages/statsmodels/tools/_testing.py:19: FutureWarning: pandas.util.testing is deprecated. Use the functions in the public API at pandas.testing instead.\n",
            "  import pandas.util.testing as tm\n"
          ],
          "name": "stderr"
        }
      ]
    },
    {
      "cell_type": "code",
      "metadata": {
        "id": "hVQXfQhxWY4A",
        "colab_type": "code",
        "colab": {}
      },
      "source": [
        "def draw_distributionPlot_grid(df):\n",
        "  import math\n",
        "  fig=plt.figure(num=None, figsize=(12, 10), dpi=80, facecolor='w', edgecolor='k')\n",
        "  list_columns = get_numeric_data_columns(df)\n",
        "  n_rows = math.ceil(len(list_columns)/3)\n",
        "  n_cols = 3\n",
        "  for i, var_name in enumerate(list_columns):\n",
        "    ax=fig.add_subplot(n_rows,n_cols,i+1)\n",
        "    sns.distplot(df[var_name],hist=True,axlabel=var_name)\n",
        "    ax.set_title(var_name+\" Distribution\")\n",
        "  fig.tight_layout()  # Improves appearance a bit.\n",
        "  plt.show()"
      ],
      "execution_count": 0,
      "outputs": []
    },
    {
      "cell_type": "code",
      "metadata": {
        "id": "ES22OkCtYVEK",
        "colab_type": "code",
        "colab": {}
      },
      "source": [
        "def get_numeric_data_columns(df):\n",
        "  '''\n",
        "      return list of all numeric data columns name\n",
        "  '''\n",
        "  return list(df._get_numeric_data().columns)"
      ],
      "execution_count": 0,
      "outputs": []
    },
    {
      "cell_type": "code",
      "metadata": {
        "id": "7Cq-Ds9RYXlU",
        "colab_type": "code",
        "outputId": "5d48a590-50b5-4d22-bd82-1873541747c8",
        "colab": {
          "base_uri": "https://localhost:8080/",
          "height": 809
        }
      },
      "source": [
        "draw_distributionPlot_grid(data)\n",
        "\n",
        "# Task4: Remove cust_id , we need to scale all the columns  \n",
        "# Task5: change is_defult type to bool\n",
        "# Task6: see annual pay "
      ],
      "execution_count": 0,
      "outputs": [
        {
          "output_type": "display_data",
          "data": {
            "image/png": "[encoded data removed]",
            "text/plain": [
              "<Figure size 960x800 with 13 Axes>"
            ]
          },
          "metadata": {
            "tags": []
          }
        }
      ]
    },
    {
      "cell_type": "code",
      "metadata": {
        "id": "VBEfhZ4IYaJo",
        "colab_type": "code",
        "colab": {}
      },
      "source": [
        "def draw_countPlot_grid(df):\n",
        "  import math\n",
        "  fig=plt.figure(num=None, figsize=(12, 10), dpi=80, facecolor='w', edgecolor='k')\n",
        "  list_columns = get_catagorical_data_columns(df)\n",
        "  n_rows = math.ceil(len(list_columns)/3)\n",
        "  n_cols = 3\n",
        "  for i, var_name in enumerate(list_columns):\n",
        "    if len(df[var_name].unique()) < 30:\n",
        "      ax=fig.add_subplot(n_rows,n_cols,i+1)\n",
        "      sns.countplot(x = var_name, data=df)\n",
        "      ax.set_title(var_name)\n",
        "  fig.tight_layout()  # Improves appearance a bit.\n",
        "  plt.show()"
      ],
      "execution_count": 0,
      "outputs": []
    },
    {
      "cell_type": "code",
      "metadata": {
        "id": "ZD9ryE3abHYO",
        "colab_type": "code",
        "colab": {}
      },
      "source": [
        "def get_catagorical_data_columns(df):\n",
        "  '''\n",
        "      return list of all catagoric data columns name\n",
        "  '''\n",
        "  return list(set(df.columns) - set(df._get_numeric_data().columns))"
      ],
      "execution_count": 0,
      "outputs": []
    },
    {
      "cell_type": "code",
      "metadata": {
        "id": "bgXAvtywbN_t",
        "colab_type": "code",
        "outputId": "d7ff50c0-02fb-4c0c-c541-6d5b38bf84ca",
        "colab": {
          "base_uri": "https://localhost:8080/",
          "height": 809
        }
      },
      "source": [
        "draw_countPlot_grid(data)\n",
        "# all state has equal distribution\n",
        "# app_type has max INDIVIDUAL values"
      ],
      "execution_count": 0,
      "outputs": [
        {
          "output_type": "display_data",
          "data": {
            "image/png": "[encoded data removed]",
            "text/plain": [
              "<Figure size 960x800 with 8 Axes>"
            ]
          },
          "metadata": {
            "tags": []
          }
        }
      ]
    },
    {
      "cell_type": "code",
      "metadata": {
        "id": "lpMgsBSXbRLd",
        "colab_type": "code",
        "colab": {}
      },
      "source": [
        "def create_seaborn_heatmap_highcorelated(df,posThreshold,negThreshold):\n",
        "  '''\n",
        "      create Heatmap for highly co-related(given threshold) columns\n",
        "\n",
        "      Input: dataframe, positive threshold, negitive threshold\n",
        "      Plot: Heatmap\n",
        "  '''\n",
        "  df_corr = df.corr()\n",
        "  tempdf = df_corr[(df_corr > posThreshold) | (df_corr < -negThreshold)]\n",
        "  tempdf.replace(to_replace=1,value=np.nan,inplace=True)\n",
        "  tempdf.dropna(axis=1,how='all',inplace=True)\n",
        "  tempdf.dropna(axis=0,how='all',inplace=True)\n",
        "  sns.heatmap(tempdf,annot=True, cmap=\"Blues\")"
      ],
      "execution_count": 0,
      "outputs": []
    },
    {
      "cell_type": "code",
      "metadata": {
        "id": "vv2CM5pxbSJu",
        "colab_type": "code",
        "outputId": "59f0e705-320f-45b2-ae21-79d8d3ae1380",
        "colab": {
          "base_uri": "https://localhost:8080/",
          "height": 332
        }
      },
      "source": [
        "create_seaborn_heatmap_highcorelated(data,0.4,0.6)\n",
        "# Task7: remove installment,total_rec_prncp"
      ],
      "execution_count": 0,
      "outputs": [
        {
          "output_type": "display_data",
          "data": {
            "image/png": "[encoded data removed]",
            "text/plain": [
              "<Figure size 432x288 with 2 Axes>"
            ]
          },
          "metadata": {
            "tags": [],
            "needs_background": "light"
          }
        }
      ]
    },
    {
      "cell_type": "code",
      "metadata": {
        "id": "yPaXm1WJbqpS",
        "colab_type": "code",
        "colab": {}
      },
      "source": [
        "def get_thresholdDiff_outliers(df,quantile_threshold):\n",
        "  '''\n",
        "      The main motive is to find difference between max value and the quantile_threshold value and \n",
        "      draw a line graph to see is there any possible outlier. \n",
        "      \n",
        "      input: dataframe, quantile_threshold\n",
        "      output: df with column name and diff of max value and the quantile_threshold\n",
        "  '''\n",
        "  columns_numeric = get_numeric_data_columns(df)\n",
        "  quantile = []\n",
        "  dict_quantile={}\n",
        "  for col in columns_numeric:\n",
        "    dict_quantile[col] = df[col].max() - df[col].quantile(quantile_threshold)\n",
        "  result = pd.DataFrame(dict_quantile,index=[0]).T\n",
        "  result['columns_name'] = result.index\n",
        "  result['Difference'] = result[0]\n",
        "  result.reset_index(drop=True,inplace=True)\n",
        "  result.drop([0],axis=1,inplace=True)\n",
        "  return result"
      ],
      "execution_count": 0,
      "outputs": []
    },
    {
      "cell_type": "code",
      "metadata": {
        "id": "xydPDnLFeWwb",
        "colab_type": "code",
        "outputId": "54b0a709-250d-42a5-900d-57f8473c7d7f",
        "colab": {
          "base_uri": "https://localhost:8080/",
          "height": 426
        }
      },
      "source": [
        "pd.options.display.float_format = \"{:.2f}\".format\n",
        "get_thresholdDiff_outliers(data,0.99)\n",
        "# see annual pay,dti"
      ],
      "execution_count": 0,
      "outputs": [
        {
          "output_type": "execute_result",
          "data": {
            "text/html": [
              "<div>\n",
              "<style scoped>\n",
              "    .dataframe tbody tr th:only-of-type {\n",
              "        vertical-align: middle;\n",
              "    }\n",
              "\n",
              "    .dataframe tbody tr th {\n",
              "        vertical-align: top;\n",
              "    }\n",
              "\n",
              "    .dataframe thead th {\n",
              "        text-align: right;\n",
              "    }\n",
              "</style>\n",
              "<table border=\"1\" class=\"dataframe\">\n",
              "  <thead>\n",
              "    <tr style=\"text-align: right;\">\n",
              "      <th></th>\n",
              "      <th>columns_name</th>\n",
              "      <th>Difference</th>\n",
              "    </tr>\n",
              "  </thead>\n",
              "  <tbody>\n",
              "    <tr>\n",
              "      <th>0</th>\n",
              "      <td>cust_id</td>\n",
              "      <td>797148.78</td>\n",
              "    </tr>\n",
              "    <tr>\n",
              "      <th>1</th>\n",
              "      <td>year</td>\n",
              "      <td>0.00</td>\n",
              "    </tr>\n",
              "    <tr>\n",
              "      <th>2</th>\n",
              "      <td>emp_duration</td>\n",
              "      <td>0.00</td>\n",
              "    </tr>\n",
              "    <tr>\n",
              "      <th>3</th>\n",
              "      <td>annual_pay</td>\n",
              "      <td>9250000.00</td>\n",
              "    </tr>\n",
              "    <tr>\n",
              "      <th>4</th>\n",
              "      <td>loan_amount</td>\n",
              "      <td>0.00</td>\n",
              "    </tr>\n",
              "    <tr>\n",
              "      <th>5</th>\n",
              "      <td>interest_rate</td>\n",
              "      <td>4.00</td>\n",
              "    </tr>\n",
              "    <tr>\n",
              "      <th>6</th>\n",
              "      <td>dti</td>\n",
              "      <td>9961.52</td>\n",
              "    </tr>\n",
              "    <tr>\n",
              "      <th>7</th>\n",
              "      <td>total_pymnt</td>\n",
              "      <td>21182.78</td>\n",
              "    </tr>\n",
              "    <tr>\n",
              "      <th>8</th>\n",
              "      <td>total_rec_prncp</td>\n",
              "      <td>5000.02</td>\n",
              "    </tr>\n",
              "    <tr>\n",
              "      <th>9</th>\n",
              "      <td>recoveries</td>\n",
              "      <td>31814.08</td>\n",
              "    </tr>\n",
              "    <tr>\n",
              "      <th>10</th>\n",
              "      <td>installment</td>\n",
              "      <td>260.60</td>\n",
              "    </tr>\n",
              "    <tr>\n",
              "      <th>11</th>\n",
              "      <td>is_default</td>\n",
              "      <td>0.00</td>\n",
              "    </tr>\n",
              "  </tbody>\n",
              "</table>\n",
              "</div>"
            ],
            "text/plain": [
              "       columns_name  Difference\n",
              "0           cust_id   797148.78\n",
              "1              year        0.00\n",
              "2      emp_duration        0.00\n",
              "3        annual_pay  9250000.00\n",
              "4       loan_amount        0.00\n",
              "5     interest_rate        4.00\n",
              "6               dti     9961.52\n",
              "7       total_pymnt    21182.78\n",
              "8   total_rec_prncp     5000.02\n",
              "9        recoveries    31814.08\n",
              "10      installment      260.60\n",
              "11       is_default        0.00"
            ]
          },
          "metadata": {
            "tags": []
          },
          "execution_count": 12
        }
      ]
    },
    {
      "cell_type": "markdown",
      "metadata": {
        "id": "XJX3V-CEe8ly",
        "colab_type": "text"
      },
      "source": [
        "#### Solve Task"
      ]
    },
    {
      "cell_type": "code",
      "metadata": {
        "id": "USOLPgVrebCM",
        "colab_type": "code",
        "colab": {}
      },
      "source": [
        "# Task4: Remove cust_id , we need to scale all the columns  \n",
        "# Task5: change is_default type to bool\n",
        "# Task6: see annual pay \n",
        "# Task7: remove installment,total_rec_prncp"
      ],
      "execution_count": 0,
      "outputs": []
    },
    {
      "cell_type": "code",
      "metadata": {
        "id": "LoN0NA_pfOTY",
        "colab_type": "code",
        "colab": {}
      },
      "source": [
        "data.drop(['cust_id','installment','total_rec_prncp'],axis=1,inplace=True)"
      ],
      "execution_count": 0,
      "outputs": []
    },
    {
      "cell_type": "code",
      "metadata": {
        "id": "SacAVFxufeh6",
        "colab_type": "code",
        "colab": {}
      },
      "source": [
        "data['is_default'] = data['is_default'].astype(bool)"
      ],
      "execution_count": 0,
      "outputs": []
    },
    {
      "cell_type": "markdown",
      "metadata": {
        "id": "aHkCR8M5fyaO",
        "colab_type": "text"
      },
      "source": [
        "## 4.Pre Modeling"
      ]
    },
    {
      "cell_type": "code",
      "metadata": {
        "id": "XIoYDJIgh4Yq",
        "colab_type": "code",
        "colab": {}
      },
      "source": [
        "# Experiment 1: I have highly disbalance data Solve for Dis-balance Data With SMOTE\n",
        "# Experiment 2: Without SMOTE we use nearmiss algo\n",
        "# Experiment 3: Without any ALGO"
      ],
      "execution_count": 0,
      "outputs": []
    },
    {
      "cell_type": "code",
      "metadata": {
        "id": "8TIrVyZygR1H",
        "colab_type": "code",
        "colab": {}
      },
      "source": [
        "# Smote algo\n",
        "# 1. Do Encoding\n",
        "# 2.Scaling the data\n",
        "\n",
        "# Label Encoding\n",
        "\n",
        "from sklearn.preprocessing import LabelEncoder\n",
        "def do_label_Encoding(df,column_list):\n",
        "  encode = LabelEncoder()\n",
        "  for col in column_list:\n",
        "    if isinstance(df[col].dtype, object):\n",
        "      df[col] = encode.fit_transform(df[col])\n",
        "  return df\n",
        "\n",
        "from sklearn.preprocessing import StandardScaler\n",
        "def do_standardScale(X):\n",
        "  sc = StandardScaler()\n",
        "  sc.fit(X)\n",
        "  x_sc = sc.transform(X)\n",
        "  x_sc_df = pd.DataFrame(x_sc,columns=X.columns)\n",
        "  return x_sc_df\n",
        "\n",
        "import pandas as pd\n",
        "def do_onehot_Encoding(df,list_columns):\n",
        "  return pd.get_dummies(data = df, columns = list_columns)"
      ],
      "execution_count": 0,
      "outputs": []
    },
    {
      "cell_type": "code",
      "metadata": {
        "id": "pa0KcseOpSan",
        "colab_type": "code",
        "colab": {}
      },
      "source": [
        "data['own_type'].replace(['NONE','ANY'],'OTHER',inplace=True)"
      ],
      "execution_count": 0,
      "outputs": []
    },
    {
      "cell_type": "code",
      "metadata": {
        "id": "zyfJ2vYVoJNg",
        "colab_type": "code",
        "colab": {}
      },
      "source": [
        "data = do_label_Encoding(data,['state','loan_purpose','grade'])\n",
        "data = do_onehot_Encoding(data,['own_type','income_type','app_type','interest_payments','loan_duration'])"
      ],
      "execution_count": 0,
      "outputs": []
    },
    {
      "cell_type": "code",
      "metadata": {
        "id": "iyZdJl7krEzV",
        "colab_type": "code",
        "colab": {}
      },
      "source": [
        "data.drop(['date_issued','date_final'],axis=1,inplace=True)"
      ],
      "execution_count": 0,
      "outputs": []
    },
    {
      "cell_type": "code",
      "metadata": {
        "id": "U0IhR-GggtdU",
        "colab_type": "code",
        "colab": {}
      },
      "source": [
        "X = data.drop('is_default',axis=1)\n",
        "y = data['is_default']\n",
        "\n",
        "X_ss = do_standardScale(X)"
      ],
      "execution_count": 0,
      "outputs": []
    },
    {
      "cell_type": "code",
      "metadata": {
        "id": "INlzMZBkrbPL",
        "colab_type": "code",
        "colab": {}
      },
      "source": [
        "# SMOTE Algo\n",
        "\n",
        "from imblearn.over_sampling import SMOTE\n",
        "\n",
        "def do_smote_algo(X_ss,y,ratio):\n",
        "  '''\n",
        "      input:  X_ss standeredScale X value and y is taget variable column\n",
        "      output: X_new and y with upsampled data use for traing and testing data\n",
        "  '''\n",
        "  sm = SMOTE(random_state = 42, ratio = ratio) # here ratio tell the balance and imbalnace class number [We can do experiment on this]\n",
        "  X,y = sm.fit_sample(X_ss,y)\n",
        "  X_new = pd.DataFrame(data = X, columns = X_ss.columns)\n",
        "  return (X_new,y) "
      ],
      "execution_count": 0,
      "outputs": []
    },
    {
      "cell_type": "code",
      "metadata": {
        "id": "u9JbnQnez_yE",
        "colab_type": "code",
        "outputId": "ca1f6204-ad2b-427b-d055-ab01e8ef822f",
        "colab": {
          "base_uri": "https://localhost:8080/",
          "height": 73
        }
      },
      "source": [
        "X_new,y_new = do_smote_algo(X_ss,y,1)"
      ],
      "execution_count": 0,
      "outputs": [
        {
          "output_type": "stream",
          "text": [
            "/usr/local/lib/python3.6/dist-packages/sklearn/utils/deprecation.py:87: FutureWarning: Function safe_indexing is deprecated; safe_indexing is deprecated in version 0.22 and will be removed in version 0.24.\n",
            "  warnings.warn(msg, category=FutureWarning)\n"
          ],
          "name": "stderr"
        }
      ]
    },
    {
      "cell_type": "code",
      "metadata": {
        "id": "6NxlHAZl00VU",
        "colab_type": "code",
        "outputId": "c9b56137-cdac-4c6c-932d-198ac40ca912",
        "colab": {
          "base_uri": "https://localhost:8080/",
          "height": 72
        }
      },
      "source": [
        "pd.value_counts(y_new)"
      ],
      "execution_count": 0,
      "outputs": [
        {
          "output_type": "execute_result",
          "data": {
            "text/plain": [
              "True     819950\n",
              "False    819950\n",
              "dtype: int64"
            ]
          },
          "metadata": {
            "tags": []
          },
          "execution_count": 15
        }
      ]
    },
    {
      "cell_type": "markdown",
      "metadata": {
        "id": "TMv3P2rr1cL1",
        "colab_type": "text"
      },
      "source": [
        "## 5.Modeling"
      ]
    },
    {
      "cell_type": "code",
      "metadata": {
        "id": "4jqlmF0602vW",
        "colab_type": "code",
        "colab": {}
      },
      "source": [
        "# Baseline modeling\n",
        "\n",
        "from sklearn.linear_model import LogisticRegression\n",
        "from sklearn.tree import DecisionTreeClassifier\n",
        "from sklearn.ensemble import RandomForestClassifier"
      ],
      "execution_count": 0,
      "outputs": []
    },
    {
      "cell_type": "code",
      "metadata": {
        "id": "v3pvsuXtAU1V",
        "colab_type": "code",
        "colab": {}
      },
      "source": [
        "models_Classification = {\n",
        "    \n",
        "    'LogisticRegression':LogisticRegression(),\n",
        "    'DecisionTreeClassifier': DecisionTreeClassifier()\n",
        "    \n",
        "}"
      ],
      "execution_count": 0,
      "outputs": []
    },
    {
      "cell_type": "code",
      "metadata": {
        "id": "AkqTDhGTEzil",
        "colab_type": "code",
        "colab": {}
      },
      "source": [
        "y_new = pd.DataFrame(y_new)\n",
        "y_new = y_new.astype(int)"
      ],
      "execution_count": 0,
      "outputs": []
    },
    {
      "cell_type": "code",
      "metadata": {
        "id": "TtiRk6ICA6lI",
        "colab_type": "code",
        "colab": {}
      },
      "source": [
        "# Cross validation with SKlearn\n",
        "from sklearn.model_selection import cross_validate\n",
        "\n",
        "def do_crossValidation(algo_object,X,y,cv,scoring):\n",
        "  '''\n",
        "      Return : return data frame \n",
        "  '''\n",
        "  algo_name = algo_object.__class__.__name__ \n",
        "  cc = cross_validate(algo_object, X, y, cv=cv, return_train_score=True, return_estimator=True, n_jobs=-1, scoring=scoring)\n",
        "  return get_crossValidation_Result(algo_name,cc)\n",
        "\n",
        "def get_crossValidation_Result(algo_name,result):\n",
        "  result_dict = {}\n",
        "  result_dict['Algo Name'] = algo_name\n",
        "  result_dict['Time'] = result['fit_time'].mean()\n",
        "  result_dict['Algo Train Accuracy Score']= result['train_score'].mean()\n",
        "  result_dict['Algo Test Accuracy Score'] = result['test_score'].mean()\n",
        "  result_dict['Algo Test Accuracy 3*STD'] = result['test_score'].std()*3\n",
        "  return result_dict "
      ],
      "execution_count": 0,
      "outputs": []
    },
    {
      "cell_type": "code",
      "metadata": {
        "id": "0NXP-YuyAZ_D",
        "colab_type": "code",
        "colab": {}
      },
      "source": [
        "array_result = []\n",
        "for count,(key,value) in enumerate(models_Classification.items()):\n",
        "  result = do_crossValidation(value,X_new,y_new,cv=5,scoring='f1')\n",
        "  print(result)\n",
        "  array_result.append(result)\n",
        "df = pd.DataFrame(array_result)"
      ],
      "execution_count": 0,
      "outputs": []
    },
    {
      "cell_type": "code",
      "metadata": {
        "id": "wyeuUcC28Ape",
        "colab_type": "code",
        "outputId": "c30070fc-4590-49f9-e1f1-dae0226f0e9c",
        "colab": {
          "base_uri": "https://localhost:8080/",
          "height": 112
        }
      },
      "source": [
        "df"
      ],
      "execution_count": 0,
      "outputs": [
        {
          "output_type": "execute_result",
          "data": {
            "text/html": [
              "<div>\n",
              "<style scoped>\n",
              "    .dataframe tbody tr th:only-of-type {\n",
              "        vertical-align: middle;\n",
              "    }\n",
              "\n",
              "    .dataframe tbody tr th {\n",
              "        vertical-align: top;\n",
              "    }\n",
              "\n",
              "    .dataframe thead th {\n",
              "        text-align: right;\n",
              "    }\n",
              "</style>\n",
              "<table border=\"1\" class=\"dataframe\">\n",
              "  <thead>\n",
              "    <tr style=\"text-align: right;\">\n",
              "      <th></th>\n",
              "      <th>Algo Name</th>\n",
              "      <th>Time</th>\n",
              "      <th>Algo Train Accuracy Score</th>\n",
              "      <th>Algo Test Accuracy Score</th>\n",
              "      <th>Algo Test Accuracy 3*STD</th>\n",
              "    </tr>\n",
              "  </thead>\n",
              "  <tbody>\n",
              "    <tr>\n",
              "      <th>0</th>\n",
              "      <td>LogisticRegression</td>\n",
              "      <td>13.778386</td>\n",
              "      <td>0.755419</td>\n",
              "      <td>0.703100</td>\n",
              "      <td>0.173559</td>\n",
              "    </tr>\n",
              "    <tr>\n",
              "      <th>1</th>\n",
              "      <td>DecisionTreeClassifier</td>\n",
              "      <td>25.937713</td>\n",
              "      <td>1.000000</td>\n",
              "      <td>0.766971</td>\n",
              "      <td>0.183862</td>\n",
              "    </tr>\n",
              "  </tbody>\n",
              "</table>\n",
              "</div>"
            ],
            "text/plain": [
              "                Algo Name  ...  Algo Test Accuracy 3*STD\n",
              "0      LogisticRegression  ...                  0.173559\n",
              "1  DecisionTreeClassifier  ...                  0.183862\n",
              "\n",
              "[2 rows x 5 columns]"
            ]
          },
          "metadata": {
            "tags": []
          },
          "execution_count": 33
        }
      ]
    },
    {
      "cell_type": "markdown",
      "metadata": {
        "id": "eed3VMbe6cK-",
        "colab_type": "text"
      },
      "source": [
        "## Post Modeling"
      ]
    },
    {
      "cell_type": "code",
      "metadata": {
        "id": "9fl8EkdN6a-9",
        "colab_type": "code",
        "colab": {}
      },
      "source": [
        "##  See important featurs for futher improving model "
      ],
      "execution_count": 0,
      "outputs": []
    },
    {
      "cell_type": "code",
      "metadata": {
        "id": "mhQKM-yKANvg",
        "colab_type": "code",
        "colab": {}
      },
      "source": [
        "\n",
        "from sklearn.feature_selection import SelectFromModel\n",
        "from sklearn.ensemble import RandomForestClassifier\n",
        "\n",
        "def randomForestBased_FeatureImportance(X,y,max_features):\n",
        "  embeded_rf_selector = SelectFromModel(RandomForestClassifier(n_estimators=100), max_features=max_features)\n",
        "  embeded_rf_selector.fit(X, y)\n",
        "  embeded_rf_support = embeded_rf_selector.get_support()\n",
        "  embeded_rf_feature = X.loc[:,embeded_rf_support].columns.tolist()\n",
        "  return embeded_rf_feature"
      ],
      "execution_count": 0,
      "outputs": []
    },
    {
      "cell_type": "code",
      "metadata": {
        "id": "t5XpfnwaBWDr",
        "colab_type": "code",
        "colab": {}
      },
      "source": [
        "randomForestBased_FeatureImportance(X_new,y_new,20)"
      ],
      "execution_count": 0,
      "outputs": []
    },
    {
      "cell_type": "code",
      "metadata": {
        "id": "sdNxDfA6ESXZ",
        "colab_type": "code",
        "colab": {}
      },
      "source": [
        ""
      ],
      "execution_count": 0,
      "outputs": []
    }
  ]
}